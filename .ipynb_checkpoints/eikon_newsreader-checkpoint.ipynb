{
 "cells": [
  {
   "cell_type": "code",
   "execution_count": 1,
   "metadata": {},
   "outputs": [],
   "source": [
    "import pandas as pd\n",
    "import eikon as ek\n",
    "import configparser as cp\n",
    "from datetime import date\n",
    "#https://hilpisch.com/tr_eikon_machine_learning.html"
   ]
  },
  {
   "cell_type": "code",
   "execution_count": 2,
   "metadata": {},
   "outputs": [],
   "source": [
    "cfg = cp.ConfigParser()\n",
    "cfg.read('config.cfg')\n",
    "app_key = cfg['eikon']['desktop']#['news_key']\n",
    "#app_key = \"c1e245b3033d4740ae1205f979627922c1d7df6b\"\n",
    "ek.set_app_key(app_key)"
   ]
  },
  {
   "cell_type": "code",
   "execution_count": 3,
   "metadata": {
    "scrolled": true
   },
   "outputs": [],
   "source": [
    "#ek.get_news_headlines('R:LHAG.DE', date_from='2019-03-06T09:00:00', date_to='2019-03-06T18:00:00')"
   ]
  },
  {
   "cell_type": "code",
   "execution_count": 63,
   "metadata": {},
   "outputs": [
    {
     "data": {
      "text/html": [
       "<div>\n",
       "<style scoped>\n",
       "    .dataframe tbody tr th:only-of-type {\n",
       "        vertical-align: middle;\n",
       "    }\n",
       "\n",
       "    .dataframe tbody tr th {\n",
       "        vertical-align: top;\n",
       "    }\n",
       "\n",
       "    .dataframe thead th {\n",
       "        text-align: right;\n",
       "    }\n",
       "</style>\n",
       "<table border=\"1\" class=\"dataframe\">\n",
       "  <thead>\n",
       "    <tr style=\"text-align: right;\">\n",
       "      <th></th>\n",
       "      <th>versionCreated</th>\n",
       "      <th>text</th>\n",
       "      <th>storyId</th>\n",
       "      <th>sourceCode</th>\n",
       "    </tr>\n",
       "  </thead>\n",
       "  <tbody>\n",
       "    <tr>\n",
       "      <th>2019-11-01 13:31:22.768</th>\n",
       "      <td>2019-11-01 14:19:49.459000+00:00</td>\n",
       "      <td>FED'S KAPLAN SAYS CLIMATE CHANGE WILL ULTIMATE...</td>\n",
       "      <td>urn:newsml:reuters.com:20191101:nS0N24B00B:15</td>\n",
       "      <td>NS:RTRS</td>\n",
       "    </tr>\n",
       "    <tr>\n",
       "      <th>2019-10-31 16:23:14.000</th>\n",
       "      <td>2019-10-31 22:38:38+00:00</td>\n",
       "      <td>UPDATE 4-Spain likely to host COP25 climate ch...</td>\n",
       "      <td>urn:newsml:reuters.com:20191031:nL2N27G16F:9</td>\n",
       "      <td>NS:RTRS</td>\n",
       "    </tr>\n",
       "    <tr>\n",
       "      <th>2019-10-31 16:00:41.000</th>\n",
       "      <td>2019-10-31 16:00:41+00:00</td>\n",
       "      <td>UPDATE 1-German court rejects farmers' climate...</td>\n",
       "      <td>urn:newsml:reuters.com:20191031:nL8N27G7W7:1</td>\n",
       "      <td>NS:RTRS</td>\n",
       "    </tr>\n",
       "    <tr>\n",
       "      <th>2019-10-31 15:36:51.000</th>\n",
       "      <td>2019-10-31 15:50:42+00:00</td>\n",
       "      <td>Spain offers to host COP25 climate change summ...</td>\n",
       "      <td>urn:newsml:reuters.com:20191031:nT5N22C01S:3</td>\n",
       "      <td>NS:RTRS</td>\n",
       "    </tr>\n",
       "    <tr>\n",
       "      <th>2019-10-31 15:36:50.596</th>\n",
       "      <td>2019-10-31 15:36:50.596000+00:00</td>\n",
       "      <td>CHILE PRESIDENT SEBASTIAN PINERA SAYS PRESIDEN...</td>\n",
       "      <td>urn:newsml:reuters.com:20191031:nT5N22C01S:1</td>\n",
       "      <td>NS:RTRS</td>\n",
       "    </tr>\n",
       "  </tbody>\n",
       "</table>\n",
       "</div>"
      ],
      "text/plain": [
       "                                          versionCreated  \\\n",
       "2019-11-01 13:31:22.768 2019-11-01 14:19:49.459000+00:00   \n",
       "2019-10-31 16:23:14.000        2019-10-31 22:38:38+00:00   \n",
       "2019-10-31 16:00:41.000        2019-10-31 16:00:41+00:00   \n",
       "2019-10-31 15:36:51.000        2019-10-31 15:50:42+00:00   \n",
       "2019-10-31 15:36:50.596 2019-10-31 15:36:50.596000+00:00   \n",
       "\n",
       "                                                                      text  \\\n",
       "2019-11-01 13:31:22.768  FED'S KAPLAN SAYS CLIMATE CHANGE WILL ULTIMATE...   \n",
       "2019-10-31 16:23:14.000  UPDATE 4-Spain likely to host COP25 climate ch...   \n",
       "2019-10-31 16:00:41.000  UPDATE 1-German court rejects farmers' climate...   \n",
       "2019-10-31 15:36:51.000  Spain offers to host COP25 climate change summ...   \n",
       "2019-10-31 15:36:50.596  CHILE PRESIDENT SEBASTIAN PINERA SAYS PRESIDEN...   \n",
       "\n",
       "                                                               storyId  \\\n",
       "2019-11-01 13:31:22.768  urn:newsml:reuters.com:20191101:nS0N24B00B:15   \n",
       "2019-10-31 16:23:14.000   urn:newsml:reuters.com:20191031:nL2N27G16F:9   \n",
       "2019-10-31 16:00:41.000   urn:newsml:reuters.com:20191031:nL8N27G7W7:1   \n",
       "2019-10-31 15:36:51.000   urn:newsml:reuters.com:20191031:nT5N22C01S:3   \n",
       "2019-10-31 15:36:50.596   urn:newsml:reuters.com:20191031:nT5N22C01S:1   \n",
       "\n",
       "                        sourceCode  \n",
       "2019-11-01 13:31:22.768    NS:RTRS  \n",
       "2019-10-31 16:23:14.000    NS:RTRS  \n",
       "2019-10-31 16:00:41.000    NS:RTRS  \n",
       "2019-10-31 15:36:51.000    NS:RTRS  \n",
       "2019-10-31 15:36:50.596    NS:RTRS  "
      ]
     },
     "execution_count": 63,
     "metadata": {},
     "output_type": "execute_result"
    }
   ],
   "source": [
    "#https://developers.refinitiv.com/eikon-apis/eikon-data-api/learning?content=15351&type=learning_material_item\n",
    "start_date, end_date = date(2019, 1, 1), date.today() # top story of this ytd\n",
    "q = \"climate AND change\"\n",
    "headlines = ek.get_news_headlines(query=q, date_from=start_date, date_to=end_date, count=100)\n",
    "headlines.head()"
   ]
  },
  {
   "cell_type": "code",
   "execution_count": 64,
   "metadata": {},
   "outputs": [
    {
     "data": {
      "text/plain": [
       "'urn:newsml:reuters.com:20191101:nS0N24B00B:15'"
      ]
     },
     "execution_count": 64,
     "metadata": {},
     "output_type": "execute_result"
    }
   ],
   "source": [
    "headlines.storyId[0]"
   ]
  },
  {
   "cell_type": "code",
   "execution_count": 65,
   "metadata": {},
   "outputs": [
    {
     "data": {
      "text/plain": [
       "\"FED'S KAPLAN SAYS CLIMATE CHANGE WILL ULTIMATELY HAVE IMPACT ON U.S. GDP\""
      ]
     },
     "execution_count": 65,
     "metadata": {},
     "output_type": "execute_result"
    }
   ],
   "source": [
    "headlines.text[0]"
   ]
  },
  {
   "cell_type": "code",
   "execution_count": 7,
   "metadata": {},
   "outputs": [],
   "source": [
    "#story_json = ek.get_news_story(headlines.storyId[0], raw_output=True) #raw_output = True get json file (else str html)\n",
    "story = ek.get_news_story(headlines.storyId[0], raw_output=False)"
   ]
  },
  {
   "cell_type": "code",
   "execution_count": 66,
   "metadata": {},
   "outputs": [],
   "source": [
    "import re\n",
    "\n",
    "TAG_RE = re.compile(r'(<[^>]*>|{[^}]*})')\n",
    "\n",
    "def remove_tags(text):\n",
    "    text = TAG_RE.sub('', text)\n",
    "    text = text.replace(\".storyContent *\", \"\")\n",
    "    return text #TAG_RE.sub('', text)"
   ]
  },
  {
   "cell_type": "code",
   "execution_count": 67,
   "metadata": {},
   "outputs": [],
   "source": [
    "#loop through headlines to get stories\n",
    "all_text = []\n",
    "for index, headline_row in headlines.iterrows():\n",
    "    story = ek.get_news_story(headline_row['storyId'], raw_output=False)\n",
    "    story = remove_tags(story)\n",
    "    title = headline_row.text + ' - '\n",
    "    all_text.append(title +  story)\n"
   ]
  },
  {
   "cell_type": "code",
   "execution_count": null,
   "metadata": {},
   "outputs": [],
   "source": [
    "#write these to text file\n",
    "newsfile = q + '_' + str(start_date) + '-' + str(end_date) + '.txt'\n",
    "with open(newsfile, 'w') as f:\n",
    "    f.write(str(all_text))"
   ]
  },
  {
   "cell_type": "code",
   "execution_count": 68,
   "metadata": {},
   "outputs": [],
   "source": [
    "#start from here if reading txt file\n",
    "with open (newsfile, 'r') as f:\n",
    "    all_text = f.read()"
   ]
  },
  {
   "cell_type": "code",
   "execution_count": null,
   "metadata": {},
   "outputs": [],
   "source": [
    "#articles = json['articles']\n",
    "#headline = [article['title'] for article in articles]\n",
    "#description = [article['description'] for article in articles]\n",
    "\n",
    "#all_text = headline + description"
   ]
  },
  {
   "cell_type": "code",
   "execution_count": 16,
   "metadata": {},
   "outputs": [],
   "source": [
    "def preprocess_text(corpus):\n",
    "    # initialize\n",
    "    clean_text = []\n",
    "\n",
    "    for row in corpus:\n",
    "        # tokenize\n",
    "        tokens = nltk.tokenize.word_tokenize(row)\n",
    "        # lowercase\n",
    "        tokens = [token.lower() for token in tokens]\n",
    "        # isword\n",
    "        tokens = [token for token in tokens if token.isalpha()]\n",
    "        clean_sentence = ''\n",
    "        clean_sentence = ' '.join(token for token in tokens)\n",
    "        clean_text.append(clean_sentence)\n",
    "        \n",
    "    return clean_text\n",
    "    \n",
    "all_text = preprocess_text(all_text);"
   ]
  },
  {
   "cell_type": "code",
   "execution_count": 73,
   "metadata": {},
   "outputs": [],
   "source": [
    "#creat co-occurence matrix\n",
    "from sklearn.feature_extraction.text import CountVectorizer\n",
    "cv = CountVectorizer(ngram_range=(1,2), decode_error='replace', analyzer='word', stop_words = 'english') # You can define your own parameters\n",
    "X = cv.fit_transform(all_text)"
   ]
  },
  {
   "cell_type": "code",
   "execution_count": 74,
   "metadata": {},
   "outputs": [],
   "source": [
    "#transpose to get co-occurence matrix\n",
    "Xc = (X.T * X) # This is the matrix manipulation step\n",
    "Xc.setdiag(0) # We set the diagonals to be zeroes as it's pointless to be 1"
   ]
  },
  {
   "cell_type": "code",
   "execution_count": 75,
   "metadata": {},
   "outputs": [],
   "source": [
    "#turn into pandas df and export csv\n",
    "import pandas as pd\n",
    "names = cv.get_feature_names() # This are the entity names (i.e. keywords)\n",
    "df = pd.DataFrame(data = Xc.toarray(), columns = names, index = names)\n",
    "filename = 'gephi_' + q + str(start_date) + '-' + str(end_date) + '_co_occurences.csv'\n",
    "df.to_csv(filename, sep = ',')"
   ]
  },
  {
   "cell_type": "code",
   "execution_count": 76,
   "metadata": {},
   "outputs": [
    {
     "data": {
      "text/html": [
       "<div>\n",
       "<style scoped>\n",
       "    .dataframe tbody tr th:only-of-type {\n",
       "        vertical-align: middle;\n",
       "    }\n",
       "\n",
       "    .dataframe tbody tr th {\n",
       "        vertical-align: top;\n",
       "    }\n",
       "\n",
       "    .dataframe thead th {\n",
       "        text-align: right;\n",
       "    }\n",
       "</style>\n",
       "<table border=\"1\" class=\"dataframe\">\n",
       "  <thead>\n",
       "    <tr style=\"text-align: right;\">\n",
       "      <th></th>\n",
       "      <th>00</th>\n",
       "      <th>00 00</th>\n",
       "      <th>00 19</th>\n",
       "      <th>00 30</th>\n",
       "      <th>00 312</th>\n",
       "      <th>00 conference</th>\n",
       "      <th>00 gulf</th>\n",
       "      <th>00 hawes</th>\n",
       "      <th>000</th>\n",
       "      <th>000 2019</th>\n",
       "      <th>...</th>\n",
       "      <th>zip code</th>\n",
       "      <th>zoltan</th>\n",
       "      <th>zoltan aga</th>\n",
       "      <th>zone</th>\n",
       "      <th>zone 2019</th>\n",
       "      <th>zurich</th>\n",
       "      <th>zurich newsroom</th>\n",
       "      <th>zurich published</th>\n",
       "      <th>élie</th>\n",
       "      <th>élie neighbourhood</th>\n",
       "    </tr>\n",
       "  </thead>\n",
       "  <tbody>\n",
       "    <tr>\n",
       "      <th>00</th>\n",
       "      <td>0</td>\n",
       "      <td>3</td>\n",
       "      <td>2</td>\n",
       "      <td>3</td>\n",
       "      <td>4</td>\n",
       "      <td>2</td>\n",
       "      <td>4</td>\n",
       "      <td>3</td>\n",
       "      <td>6</td>\n",
       "      <td>0</td>\n",
       "      <td>...</td>\n",
       "      <td>0</td>\n",
       "      <td>2</td>\n",
       "      <td>2</td>\n",
       "      <td>0</td>\n",
       "      <td>0</td>\n",
       "      <td>0</td>\n",
       "      <td>0</td>\n",
       "      <td>0</td>\n",
       "      <td>0</td>\n",
       "      <td>0</td>\n",
       "    </tr>\n",
       "    <tr>\n",
       "      <th>00 00</th>\n",
       "      <td>3</td>\n",
       "      <td>0</td>\n",
       "      <td>0</td>\n",
       "      <td>1</td>\n",
       "      <td>0</td>\n",
       "      <td>0</td>\n",
       "      <td>0</td>\n",
       "      <td>1</td>\n",
       "      <td>0</td>\n",
       "      <td>0</td>\n",
       "      <td>...</td>\n",
       "      <td>0</td>\n",
       "      <td>0</td>\n",
       "      <td>0</td>\n",
       "      <td>0</td>\n",
       "      <td>0</td>\n",
       "      <td>0</td>\n",
       "      <td>0</td>\n",
       "      <td>0</td>\n",
       "      <td>0</td>\n",
       "      <td>0</td>\n",
       "    </tr>\n",
       "    <tr>\n",
       "      <th>00 19</th>\n",
       "      <td>2</td>\n",
       "      <td>0</td>\n",
       "      <td>0</td>\n",
       "      <td>0</td>\n",
       "      <td>0</td>\n",
       "      <td>1</td>\n",
       "      <td>0</td>\n",
       "      <td>0</td>\n",
       "      <td>1</td>\n",
       "      <td>0</td>\n",
       "      <td>...</td>\n",
       "      <td>0</td>\n",
       "      <td>1</td>\n",
       "      <td>1</td>\n",
       "      <td>0</td>\n",
       "      <td>0</td>\n",
       "      <td>0</td>\n",
       "      <td>0</td>\n",
       "      <td>0</td>\n",
       "      <td>0</td>\n",
       "      <td>0</td>\n",
       "    </tr>\n",
       "    <tr>\n",
       "      <th>00 30</th>\n",
       "      <td>3</td>\n",
       "      <td>1</td>\n",
       "      <td>0</td>\n",
       "      <td>0</td>\n",
       "      <td>0</td>\n",
       "      <td>0</td>\n",
       "      <td>0</td>\n",
       "      <td>1</td>\n",
       "      <td>0</td>\n",
       "      <td>0</td>\n",
       "      <td>...</td>\n",
       "      <td>0</td>\n",
       "      <td>0</td>\n",
       "      <td>0</td>\n",
       "      <td>0</td>\n",
       "      <td>0</td>\n",
       "      <td>0</td>\n",
       "      <td>0</td>\n",
       "      <td>0</td>\n",
       "      <td>0</td>\n",
       "      <td>0</td>\n",
       "    </tr>\n",
       "    <tr>\n",
       "      <th>00 312</th>\n",
       "      <td>4</td>\n",
       "      <td>0</td>\n",
       "      <td>0</td>\n",
       "      <td>0</td>\n",
       "      <td>0</td>\n",
       "      <td>0</td>\n",
       "      <td>2</td>\n",
       "      <td>0</td>\n",
       "      <td>2</td>\n",
       "      <td>0</td>\n",
       "      <td>...</td>\n",
       "      <td>0</td>\n",
       "      <td>0</td>\n",
       "      <td>0</td>\n",
       "      <td>0</td>\n",
       "      <td>0</td>\n",
       "      <td>0</td>\n",
       "      <td>0</td>\n",
       "      <td>0</td>\n",
       "      <td>0</td>\n",
       "      <td>0</td>\n",
       "    </tr>\n",
       "  </tbody>\n",
       "</table>\n",
       "<p>5 rows × 23848 columns</p>\n",
       "</div>"
      ],
      "text/plain": [
       "        00  00 00  00 19  00 30  00 312  00 conference  00 gulf  00 hawes  \\\n",
       "00       0      3      2      3       4              2        4         3   \n",
       "00 00    3      0      0      1       0              0        0         1   \n",
       "00 19    2      0      0      0       0              1        0         0   \n",
       "00 30    3      1      0      0       0              0        0         1   \n",
       "00 312   4      0      0      0       0              0        2         0   \n",
       "\n",
       "        000  000 2019  ...  zip code  zoltan  zoltan aga  zone  zone 2019  \\\n",
       "00        6         0  ...         0       2           2     0          0   \n",
       "00 00     0         0  ...         0       0           0     0          0   \n",
       "00 19     1         0  ...         0       1           1     0          0   \n",
       "00 30     0         0  ...         0       0           0     0          0   \n",
       "00 312    2         0  ...         0       0           0     0          0   \n",
       "\n",
       "        zurich  zurich newsroom  zurich published  élie  élie neighbourhood  \n",
       "00           0                0                 0     0                   0  \n",
       "00 00        0                0                 0     0                   0  \n",
       "00 19        0                0                 0     0                   0  \n",
       "00 30        0                0                 0     0                   0  \n",
       "00 312       0                0                 0     0                   0  \n",
       "\n",
       "[5 rows x 23848 columns]"
      ]
     },
     "execution_count": 76,
     "metadata": {},
     "output_type": "execute_result"
    }
   ],
   "source": [
    "df.head()"
   ]
  },
  {
   "cell_type": "code",
   "execution_count": null,
   "metadata": {},
   "outputs": [],
   "source": []
  }
 ],
 "metadata": {
  "kernelspec": {
   "display_name": "Python 3",
   "language": "python",
   "name": "python3"
  },
  "language_info": {
   "codemirror_mode": {
    "name": "ipython",
    "version": 3
   },
   "file_extension": ".py",
   "mimetype": "text/x-python",
   "name": "python",
   "nbconvert_exporter": "python",
   "pygments_lexer": "ipython3",
   "version": "3.7.1"
  }
 },
 "nbformat": 4,
 "nbformat_minor": 2
}
